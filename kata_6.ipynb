{
 "cells": [
  {
   "cell_type": "markdown",
   "metadata": {},
   "source": [
    "# EJERCICIO 1"
   ]
  },
  {
   "cell_type": "code",
   "execution_count": 1,
   "metadata": {},
   "outputs": [
    {
     "name": "stdout",
     "output_type": "stream",
     "text": [
      "Existen  8 planetas\n",
      "pluton es el ultimo\n"
     ]
    }
   ],
   "source": [
    "planetas = ['mercurio', 'venus', 'tierra', 'marte', 'jupiter', 'saturno', 'urano', 'neptuno']\n",
    "\n",
    "print('Existen ', len(planetas), 'planetas')\n",
    "\n",
    "planetas.append('pluton')\n",
    "\n",
    "print(planetas[-1], 'es el ultimo')"
   ]
  },
  {
   "cell_type": "markdown",
   "metadata": {},
   "source": [
    "# EJERCICIO 2"
   ]
  },
  {
   "cell_type": "code",
   "execution_count": 3,
   "metadata": {},
   "outputs": [
    {
     "name": "stdout",
     "output_type": "stream",
     "text": [
      "Los planetas mas cercanos al sol que venus son: \n",
      "['mercurio']\n",
      "Los planetas mas lejanos al sol que venus son: \n",
      "['tierra', 'marte', 'jupiter', 'saturno', 'urano', 'neptuno']\n"
     ]
    }
   ],
   "source": [
    "planetas = ['mercurio', 'venus', 'tierra', 'marte', 'jupiter', 'saturno', 'urano', 'neptuno']\n",
    "\n",
    "planeta_buscar = input('Ingresa el nombre del planeta a buscar')\n",
    "\n",
    "planeta_pos = planetas.index(planeta_buscar)\n",
    "\n",
    "print('Los planetas mas cercanos al sol que ' + planeta_buscar + ' son: ')\n",
    "print(planetas[0:planeta_pos])\n",
    "\n",
    "print('Los planetas mas lejanos al sol que ' + planeta_buscar + ' son: ')\n",
    "print(planetas[planeta_pos + 1:])"
   ]
  }
 ],
 "metadata": {
  "interpreter": {
   "hash": "1464b65ec7ed8bfac2c0f7b9736e1b5c2e655e6ed4f01b209c43480af27b0878"
  },
  "kernelspec": {
   "display_name": "Python 3.10.2 ('env': venv)",
   "language": "python",
   "name": "python3"
  },
  "language_info": {
   "codemirror_mode": {
    "name": "ipython",
    "version": 3
   },
   "file_extension": ".py",
   "mimetype": "text/x-python",
   "name": "python",
   "nbconvert_exporter": "python",
   "pygments_lexer": "ipython3",
   "version": "3.10.2"
  },
  "orig_nbformat": 4
 },
 "nbformat": 4,
 "nbformat_minor": 2
}
