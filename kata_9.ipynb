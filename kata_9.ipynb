{
 "cells": [
  {
   "cell_type": "markdown",
   "metadata": {},
   "source": [
    "# EJERCICIO 1"
   ]
  },
  {
   "cell_type": "code",
   "execution_count": 3,
   "metadata": {},
   "outputs": [
    {
     "name": "stdout",
     "output_type": "stream",
     "text": [
      "REPORTE DE COPMBUSTIBLE:\n",
      "    -----------------------------------\n",
      "    PROMEDIO TOTAL: 50.0%\n",
      "    TANQUE PRINCIPAL: 90%\n",
      "    TANQUE EXTERNO: 50%\n",
      "    TANQUE HIDROGENO: 10% \n",
      "    \n",
      "REPORTE DE COPMBUSTIBLE:\n",
      "    -----------------------------------\n",
      "    PROMEDIO TOTAL: 78.0%\n",
      "    TANQUE PRINCIPAL: 88%\n",
      "    TANQUE EXTERNO: 76%\n",
      "    TANQUE HIDROGENO: 70% \n",
      "    \n"
     ]
    }
   ],
   "source": [
    "def generar_reporte(tanque_principal, tanque_externo, tanque_hidrogeno):\n",
    "    promedio = (tanque_principal + tanque_externo + tanque_hidrogeno) / 3\n",
    "    return f\"\"\"REPORTE DE COPMBUSTIBLE:\n",
    "    -----------------------------------\n",
    "    PROMEDIO TOTAL: {promedio}%\n",
    "    TANQUE PRINCIPAL: {tanque_principal}%\n",
    "    TANQUE EXTERNO: {tanque_externo}%\n",
    "    TANQUE HIDROGENO: {tanque_hidrogeno}% \n",
    "    \"\"\"\n",
    "\n",
    "print(generar_reporte(90, 50, 10))\n",
    "\n",
    "def promedio(valores):\n",
    "    total = sum(valores)\n",
    "    contador = len(valores)\n",
    "    return total / contador\n",
    "\n",
    "promedio([120, 200, 50]) \n",
    "\n",
    "def generar_reporte(tanque_principal, tanque_externo, tanque_hidrogeno):\n",
    "    return f\"\"\"REPORTE DE COPMBUSTIBLE:\n",
    "    -----------------------------------\n",
    "    PROMEDIO TOTAL: {promedio([tanque_principal, tanque_externo, tanque_hidrogeno])}%\n",
    "    TANQUE PRINCIPAL: {tanque_principal}%\n",
    "    TANQUE EXTERNO: {tanque_externo}%\n",
    "    TANQUE HIDROGENO: {tanque_hidrogeno}% \n",
    "    \"\"\"\n",
    "\n",
    "# Call the updated function again with different values\n",
    "print(generar_reporte(88, 76, 70))"
   ]
  },
  {
   "cell_type": "markdown",
   "metadata": {},
   "source": [
    "# EJERCICIO 2"
   ]
  },
  {
   "cell_type": "code",
   "execution_count": 4,
   "metadata": {},
   "outputs": [
    {
     "name": "stdout",
     "output_type": "stream",
     "text": [
      "\n",
      "    DESTINO luna\n",
      "    PROMEDIO DE VUELO: 65 MINUTOS\n",
      "    COMBUSTIBLE RESTANTE: 500000 GALONES\n",
      "    \n",
      "\n",
      "    DESTINO Moon\n",
      "    PROMEDIO DE VUELO: 76 MINUTOS\n",
      "    RESERVAS: 500000\n",
      "    \n",
      "\n",
      "    DESTINO luna\n",
      "    PROMEDIO DE VUELO: 74 MINUTOS\n",
      "    COMBUSTIBLE RESTANTE: 500000\n",
      "    principal tanque --> 300000 galones restantes\n",
      "externo tanque --> 200000 galones restantes\n",
      "\n"
     ]
    }
   ],
   "source": [
    "def reporte_mision(pre_lanz, tiempo_vuelo, destino, tanque_externo, tanque_principal):\n",
    "    return f\"\"\"\n",
    "    DESTINO {destino}\n",
    "    PROMEDIO DE VUELO: {pre_lanz + tiempo_vuelo} MINUTOS\n",
    "    COMBUSTIBLE RESTANTE: {tanque_externo + tanque_principal} GALONES\n",
    "    \"\"\"\n",
    "\n",
    "print(reporte_mision(14, 51, \"luna\", 200000, 300000))\n",
    "\n",
    "def reporte_mision(destino, *minutos, **reservas):\n",
    "    return f\"\"\"\n",
    "    DESTINO {destino}\n",
    "    PROMEDIO DE VUELO: {sum(minutos)} MINUTOS\n",
    "    RESERVAS: {sum(reservas.values())}\n",
    "    \"\"\"\n",
    "\n",
    "print(reporte_mision(\"Moon\", 10, 15, 51, principal=300000, externo=200000))\n",
    "\n",
    "def reporte_mision(destino, *minutos, **reservas):\n",
    "    reporte = f\"\"\"\n",
    "    DESTINO {destino}\n",
    "    PROMEDIO DE VUELO: {sum(minutos)} MINUTOS\n",
    "    COMBUSTIBLE RESTANTE: {sum(reservas.values())}\n",
    "    \"\"\"\n",
    "    for tanque, galones in reservas.items():\n",
    "        reporte += f\"{tanque} tanque --> {galones} galones restantes\\n\"\n",
    "    return reporte\n",
    "\n",
    "print(reporte_mision(\"luna\", 8, 11, 55, principal=300000, externo=200000))"
   ]
  }
 ],
 "metadata": {
  "interpreter": {
   "hash": "1464b65ec7ed8bfac2c0f7b9736e1b5c2e655e6ed4f01b209c43480af27b0878"
  },
  "kernelspec": {
   "display_name": "Python 3.10.2 ('env': venv)",
   "language": "python",
   "name": "python3"
  },
  "language_info": {
   "codemirror_mode": {
    "name": "ipython",
    "version": 3
   },
   "file_extension": ".py",
   "mimetype": "text/x-python",
   "name": "python",
   "nbconvert_exporter": "python",
   "pygments_lexer": "ipython3",
   "version": "3.10.2"
  },
  "orig_nbformat": 4
 },
 "nbformat": 4,
 "nbformat_minor": 2
}
